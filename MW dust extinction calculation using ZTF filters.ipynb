{
 "cells": [
  {
   "cell_type": "markdown",
   "id": "fa191df7",
   "metadata": {},
   "source": [
    "To calculate the extinction due to Milky Way dust we will use two Python libraries:\n",
    "- ```sncosmo``` (K.Barbary: library for simulating, fitting and typing supernova light curves) \n",
    "\n",
    "- ```piscola``` ```(Python for Intelligent Supernova COsmology Light-curve Analysis)``` \n",
    "(T. Müller-Bravo: library to fit Type Ia supernova light curves in a data-driven way using Gaussian Process)"
   ]
  },
  {
   "cell_type": "markdown",
   "id": "b02b8464",
   "metadata": {},
   "source": [
    "First install:\n",
    "- ```sncosmo``` (https://sncosmo.readthedocs.io/en/stable/install.html) \n",
    "\n",
    "- ```piscola``` (https://piscola.readthedocs.io/en/latest/setup/installation.html)\n",
    "\n",
    "and if you don't clone the repository to install ```piscola``` it is needed to download the dustmaps from the ```sfdmap``` repository for getting $E(B-V)$ values from Schlegel, Finkbeiner & Davis (1998) dust map FITS files (https://github.com/kbarbary/sfddata/)."
   ]
  },
  {
   "cell_type": "code",
   "execution_count": 2,
   "id": "1247ea1f",
   "metadata": {},
   "outputs": [],
   "source": [
    "import piscola\n",
    "import sncosmo\n",
    "import sfdmap"
   ]
  },
  {
   "cell_type": "markdown",
   "id": "e103f386",
   "metadata": {},
   "source": [
    "# Get the ZTF bandpasses "
   ]
  },
  {
   "cell_type": "markdown",
   "id": "f2d6cd41",
   "metadata": {},
   "source": [
    "ZTF bandpasses with no atmospheric correction: https://sncosmo.readthedocs.io/en/latest/bandpass-list.html \n",
    "\n",
    "also can be downloaded from http://svo2.cab.inta-csic.es/svo/theory/fps3/index.php\n",
    " \n",
    "Note: LSST passbands also available\n",
    "- in ```sncosmo``` baseline total throughputs (version 1.1).\n",
    "- second link: Full throughput: system - mirrors, lenses, filter, detector, and the zenith atmosphere. Aerosols added to atmosphere (version 1.5)."
   ]
  },
  {
   "cell_type": "code",
   "execution_count": 3,
   "id": "e277e483",
   "metadata": {},
   "outputs": [],
   "source": [
    "ztfg = sncosmo.get_bandpass('ztfg')\n",
    "ztfr = sncosmo.get_bandpass('ztfr')"
   ]
  },
  {
   "cell_type": "markdown",
   "id": "4b3146be",
   "metadata": {},
   "source": [
    "wavelengths of the filters:\n",
    "\n",
    "```ztfg.wave```\n",
    "\n",
    "```ztfr.wave```\n",
    "\n",
    "\n",
    "\n",
    "transmissions of the filters:\n",
    "    \n",
    "```ztfg.trans```\n",
    "\n",
    "```ztfr.trans```\n",
    "\n",
    "\n",
    "\n",
    "effective (transmission-weighted) wavelength of the filters:\n",
    "    \n",
    "```ztfg.wave_eff```\n",
    "\n",
    "```ztfr.wave_eff```"
   ]
  },
  {
   "cell_type": "markdown",
   "id": "d026ed02",
   "metadata": {},
   "source": [
    "# Calculate the MW dust extinction of ZTF filters"
   ]
  },
  {
   "cell_type": "markdown",
   "id": "ec773aec",
   "metadata": {},
   "source": [
    "If you have already downloaded the Milky Way dust map of SFD (Schleger, Finkbeiner & Davis 1998) fits files, you need to specify the location of the dustmap."
   ]
  },
  {
   "cell_type": "code",
   "execution_count": 4,
   "id": "9a99ada6",
   "metadata": {},
   "outputs": [],
   "source": [
    "# directory of the dustmap\n",
    "dustmap_dir = '/home/francisca/sfddata-master/'"
   ]
  },
  {
   "cell_type": "markdown",
   "id": "d5b76a65",
   "metadata": {},
   "source": [
    "Calculate the MW dust extinction of a filter in a position of the sky with ```piscola.extinction_correction.extinction_filter``` (https://piscola.readthedocs.io/en/latest/user/extinction_correction.html):\n",
    "\n",
    "the inputs are:\n",
    "- array of the wavelenghts of the filter.\n",
    "\n",
    "- array of the transmissions of the wavelenghts of the filter.\n",
    "\n",
    "- ra (degrees).\n",
    "\n",
    "- dec (degrees).\n",
    "\n",
    "- scaling: (float) ```0.86``` or  ```None``` Schlafly & Finkbeiner 2011 recalibration of SFD dust map, and ```1.0``` for the original dust map).\n",
    "- reddening law: (str, default ```'fitzpatrick 1999'```), the options are ```'ccm89'``` (Cardelli, Clayton & Mathis 1989), ```'odonnell94'``` (O’Donnell 1994), ```'fitzpatrick99'``` (Fitzpatrick 1999), ```'calzetti00'``` (Calzetti 2000) and ```'fm07' ```(Fitzpatrick & Massa 2007 with $𝑅_𝑉$ = 3.1).\n",
    "\n",
    "- dustmaps_dir: (float) directory where the dust maps of Schlegel, Fikbeiner & Davis (1998) are found (default is ```None```).\n",
    "\n",
    "- r_v: (float) default 3.1. \n",
    "\n",
    "- ebv: (float) color excess (if given use this instead of the dust map value).\n",
    "\n",
    "returns:\n",
    "- A: (float) extinction in magnitudes.\n",
    "\n",
    "Note: Schlafly & Finkbeiner 2011 results of the recalibration of SFD dust map prefer an $R_V = 3.1$ Fitzpatrick  1999 reddening law (https://arxiv.org/pdf/1012.4804.pdf). "
   ]
  },
  {
   "cell_type": "markdown",
   "id": "6ae0db66",
   "metadata": {},
   "source": [
    "Examples:\n",
    "\n",
    "- $A_r$ with ```SFD dust map``` and ```O'Donnell 1994``` reddening law:\n",
    "\n",
    "```Ar = piscola.extinction_correction.extinction_filter(ztfr.wave, ztfr.trans,\n",
    "                                                      ra, dec, scaling=1.0,\n",
    "                                                      reddening_law='odonnell94',\n",
    "                                                      dustmaps_dir=dustmap_dir, \n",
    "                                                      r_v=3.1)```"
   ]
  },
  {
   "cell_type": "markdown",
   "id": "a82cbf95",
   "metadata": {},
   "source": [
    "- $A_g$ with ```Schlafly & Finkbeiner 2011``` recalibration ($default$) and ```Fitzpatrick  1999``` ($default$) reddening law:\n",
    "\n",
    "```A_g = piscola.extinction_correction.extinction_filter(ztfg.wave, ztfg.trans,\n",
    "                                                       ra, dec, scaling=0.86,\n",
    "                                                       reddening_law='fitzpatrick99',\n",
    "                                                       dustmaps_dir=dustmap_dir, \n",
    "                                                       r_v=3.1)```                 "
   ]
  },
  {
   "cell_type": "markdown",
   "id": "eb3cff56",
   "metadata": {},
   "source": [
    "To do that with LSST passbands from sncosmo (baseline total throughputs), define:"
   ]
  },
  {
   "cell_type": "code",
   "execution_count": 5,
   "id": "9fb4585e",
   "metadata": {},
   "outputs": [],
   "source": [
    "lsstu = sncosmo.get_bandpass('lsstu')\n",
    "lsstg = sncosmo.get_bandpass('lsstg')\n",
    "lsstr = sncosmo.get_bandpass('lsstr')\n",
    "lssti = sncosmo.get_bandpass('lssti')\n",
    "lsstz = sncosmo.get_bandpass('lsstz')\n",
    "lssty = sncosmo.get_bandpass('lssty')"
   ]
  },
  {
   "cell_type": "markdown",
   "id": "95e7e8b2",
   "metadata": {},
   "source": [
    "and access in the same way to the wavelength and transmission of the filters"
   ]
  },
  {
   "cell_type": "markdown",
   "id": "330b37c2",
   "metadata": {},
   "source": [
    "Also with respect to MW extinction:\n",
    "\n",
    "- redden & derreden a given spectrum.\n",
    "- calculates the MW color excess $E(B-V)$.\n",
    "- plots the extintion curve for a given RA or declination or $E(B-V)$."
   ]
  },
  {
   "cell_type": "markdown",
   "id": "0f91780b",
   "metadata": {},
   "source": [
    "Other links:\n",
    "\n",
    "- MW extinction correction: https://piscola.readthedocs.io/en/latest/user/extinction_correction.html\n",
    "- Filter utils: https://piscola.readthedocs.io/en/latest/user/filter_utils.html\n",
    "- Mangling function: https://piscola.readthedocs.io/en/latest/user/mangling.html\n",
    "- Gaussian processes: https://piscola.readthedocs.io/en/latest/user/gaussian_process.html"
   ]
  },
  {
   "cell_type": "code",
   "execution_count": null,
   "id": "88199683",
   "metadata": {},
   "outputs": [],
   "source": []
  }
 ],
 "metadata": {
  "kernelspec": {
   "display_name": "Python 3 (ipykernel)",
   "language": "python",
   "name": "python3"
  },
  "language_info": {
   "codemirror_mode": {
    "name": "ipython",
    "version": 3
   },
   "file_extension": ".py",
   "mimetype": "text/x-python",
   "name": "python",
   "nbconvert_exporter": "python",
   "pygments_lexer": "ipython3",
   "version": "3.8.5"
  }
 },
 "nbformat": 4,
 "nbformat_minor": 5
}
